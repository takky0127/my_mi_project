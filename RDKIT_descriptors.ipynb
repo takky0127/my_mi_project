{
 "cells": [
  {
   "cell_type": "markdown",
   "id": "8529d1a2",
   "metadata": {},
   "source": [
    "# 記述子とフィンガーブリントの作成"
   ]
  },
  {
   "cell_type": "code",
   "execution_count": 20,
   "id": "dddb5193",
   "metadata": {},
   "outputs": [],
   "source": [
    "import numpy as np\n",
    "import pandas as pd\n",
    "import matplotlib.pyplot as plt\n",
    "import seaborn as sns\n",
    "\n",
    "from rdkit import Chem\n",
    "from rdkit.Chem import Draw\n",
    "\n",
    "from rdkit.Chem import Descriptors\n",
    "from rdkit.ML.Descriptors import MoleculeDescriptors\n",
    "\n",
    "from rdkit.Avalon.pyAvalonTools import GetAvalonFP\n",
    "from rdkit.Chem import AllChem\n",
    "from rdkit.Chem.rdFingerprintGenerator import GetMorganGenerator"
   ]
  },
  {
   "cell_type": "code",
   "execution_count": 21,
   "id": "f7612533",
   "metadata": {},
   "outputs": [
    {
     "name": "stdout",
     "output_type": "stream",
     "text": [
      "(7973, 7)\n"
     ]
    },
    {
     "data": {
      "text/html": [
       "<div>\n",
       "<style scoped>\n",
       "    .dataframe tbody tr th:only-of-type {\n",
       "        vertical-align: middle;\n",
       "    }\n",
       "\n",
       "    .dataframe tbody tr th {\n",
       "        vertical-align: top;\n",
       "    }\n",
       "\n",
       "    .dataframe thead th {\n",
       "        text-align: right;\n",
       "    }\n",
       "</style>\n",
       "<table border=\"1\" class=\"dataframe\">\n",
       "  <thead>\n",
       "    <tr style=\"text-align: right;\">\n",
       "      <th></th>\n",
       "      <th>id</th>\n",
       "      <th>SMILES</th>\n",
       "      <th>Tg</th>\n",
       "      <th>FFV</th>\n",
       "      <th>Tc</th>\n",
       "      <th>Density</th>\n",
       "      <th>Rg</th>\n",
       "    </tr>\n",
       "  </thead>\n",
       "  <tbody>\n",
       "    <tr>\n",
       "      <th>0</th>\n",
       "      <td>87817</td>\n",
       "      <td>*CC(*)c1ccccc1C(=O)OCCCCCC</td>\n",
       "      <td>NaN</td>\n",
       "      <td>0.374645</td>\n",
       "      <td>0.205667</td>\n",
       "      <td>NaN</td>\n",
       "      <td>NaN</td>\n",
       "    </tr>\n",
       "    <tr>\n",
       "      <th>1</th>\n",
       "      <td>106919</td>\n",
       "      <td>*Nc1ccc([C@H](CCC)c2ccc(C3(c4ccc([C@@H](CCC)c5...</td>\n",
       "      <td>NaN</td>\n",
       "      <td>0.370410</td>\n",
       "      <td>NaN</td>\n",
       "      <td>NaN</td>\n",
       "      <td>NaN</td>\n",
       "    </tr>\n",
       "    <tr>\n",
       "      <th>2</th>\n",
       "      <td>388772</td>\n",
       "      <td>*Oc1ccc(S(=O)(=O)c2ccc(Oc3ccc(C4(c5ccc(Oc6ccc(...</td>\n",
       "      <td>NaN</td>\n",
       "      <td>0.378860</td>\n",
       "      <td>NaN</td>\n",
       "      <td>NaN</td>\n",
       "      <td>NaN</td>\n",
       "    </tr>\n",
       "    <tr>\n",
       "      <th>3</th>\n",
       "      <td>519416</td>\n",
       "      <td>*Nc1ccc(-c2c(-c3ccc(C)cc3)c(-c3ccc(C)cc3)c(N*)...</td>\n",
       "      <td>NaN</td>\n",
       "      <td>0.387324</td>\n",
       "      <td>NaN</td>\n",
       "      <td>NaN</td>\n",
       "      <td>NaN</td>\n",
       "    </tr>\n",
       "    <tr>\n",
       "      <th>4</th>\n",
       "      <td>539187</td>\n",
       "      <td>*Oc1ccc(OC(=O)c2cc(OCCCCCCCCCOCC3CCCN3c3ccc([N...</td>\n",
       "      <td>NaN</td>\n",
       "      <td>0.355470</td>\n",
       "      <td>NaN</td>\n",
       "      <td>NaN</td>\n",
       "      <td>NaN</td>\n",
       "    </tr>\n",
       "  </tbody>\n",
       "</table>\n",
       "</div>"
      ],
      "text/plain": [
       "       id                                             SMILES  Tg       FFV  \\\n",
       "0   87817                         *CC(*)c1ccccc1C(=O)OCCCCCC NaN  0.374645   \n",
       "1  106919  *Nc1ccc([C@H](CCC)c2ccc(C3(c4ccc([C@@H](CCC)c5... NaN  0.370410   \n",
       "2  388772  *Oc1ccc(S(=O)(=O)c2ccc(Oc3ccc(C4(c5ccc(Oc6ccc(... NaN  0.378860   \n",
       "3  519416  *Nc1ccc(-c2c(-c3ccc(C)cc3)c(-c3ccc(C)cc3)c(N*)... NaN  0.387324   \n",
       "4  539187  *Oc1ccc(OC(=O)c2cc(OCCCCCCCCCOCC3CCCN3c3ccc([N... NaN  0.355470   \n",
       "\n",
       "         Tc  Density  Rg  \n",
       "0  0.205667      NaN NaN  \n",
       "1       NaN      NaN NaN  \n",
       "2       NaN      NaN NaN  \n",
       "3       NaN      NaN NaN  \n",
       "4       NaN      NaN NaN  "
      ]
     },
     "execution_count": 21,
     "metadata": {},
     "output_type": "execute_result"
    }
   ],
   "source": [
    "# train_dataの読み込み\n",
    "train_df = pd.read_csv(r\"C:\\data\\kaggle_Open_Polymer_2025\\dataset_dawnload_from_kaggle\\train.csv\")\n",
    "print(train_df.shape)\n",
    "train_df.head()"
   ]
  },
  {
   "cell_type": "code",
   "execution_count": 22,
   "id": "db334532",
   "metadata": {},
   "outputs": [],
   "source": [
    "# SMILES列の抽出\n",
    "train_smiles = train_df.iloc[:, 1]"
   ]
  },
  {
   "cell_type": "code",
   "execution_count": 23,
   "id": "13989677",
   "metadata": {},
   "outputs": [],
   "source": [
    "# SMILESから分子オブジェクトへの変換\n",
    "train_mols = [Chem.MolFromSmiles(smiles) for smiles in train_smiles]"
   ]
  },
  {
   "cell_type": "markdown",
   "id": "5a6d30a6",
   "metadata": {},
   "source": [
    "# 記述子の計算"
   ]
  },
  {
   "cell_type": "code",
   "execution_count": 24,
   "id": "35e651b2",
   "metadata": {},
   "outputs": [
    {
     "name": "stdout",
     "output_type": "stream",
     "text": [
      "計算する記述子の数 : 217\n"
     ]
    }
   ],
   "source": [
    "descriptor_names = []\n",
    "for descriptor_information in Descriptors.descList:\n",
    "    descriptor_names.append(descriptor_information[0])\n",
    "\n",
    "print('計算する記述子の数 :', len(descriptor_names))"
   ]
  },
  {
   "cell_type": "code",
   "execution_count": 25,
   "id": "d7c9deb4",
   "metadata": {},
   "outputs": [],
   "source": [
    "descriptor_calculator = MoleculeDescriptors.MolecularDescriptorCalculator(descriptor_names)\n",
    "\n",
    "descriptors_train = []  # ここに計算された記述子の値を追加\n",
    "\n",
    "for index, smiles_i in enumerate(train_smiles):\n",
    "    # print(index + 1, '/', len(train_smiles))\n",
    "    molecule = Chem.MolFromSmiles(smiles_i)\n",
    "    descriptors_train.append(descriptor_calculator.CalcDescriptors(molecule))\n",
    "descriptors_train = pd.DataFrame(descriptors_train, index=train_df.index, columns=descriptor_names)"
   ]
  },
  {
   "cell_type": "code",
   "execution_count": 30,
   "id": "96e2ba7b",
   "metadata": {},
   "outputs": [
    {
     "data": {
      "text/html": [
       "<div>\n",
       "<style scoped>\n",
       "    .dataframe tbody tr th:only-of-type {\n",
       "        vertical-align: middle;\n",
       "    }\n",
       "\n",
       "    .dataframe tbody tr th {\n",
       "        vertical-align: top;\n",
       "    }\n",
       "\n",
       "    .dataframe thead th {\n",
       "        text-align: right;\n",
       "    }\n",
       "</style>\n",
       "<table border=\"1\" class=\"dataframe\">\n",
       "  <thead>\n",
       "    <tr style=\"text-align: right;\">\n",
       "      <th></th>\n",
       "      <th>MaxAbsEStateIndex</th>\n",
       "      <th>MaxEStateIndex</th>\n",
       "      <th>MinAbsEStateIndex</th>\n",
       "      <th>MinEStateIndex</th>\n",
       "      <th>qed</th>\n",
       "      <th>SPS</th>\n",
       "      <th>MolWt</th>\n",
       "      <th>HeavyAtomMolWt</th>\n",
       "      <th>ExactMolWt</th>\n",
       "      <th>NumValenceElectrons</th>\n",
       "      <th>...</th>\n",
       "      <th>fr_sulfide</th>\n",
       "      <th>fr_sulfonamd</th>\n",
       "      <th>fr_sulfone</th>\n",
       "      <th>fr_term_acetylene</th>\n",
       "      <th>fr_tetrazole</th>\n",
       "      <th>fr_thiazole</th>\n",
       "      <th>fr_thiocyan</th>\n",
       "      <th>fr_thiophene</th>\n",
       "      <th>fr_unbrch_alkane</th>\n",
       "      <th>fr_urea</th>\n",
       "    </tr>\n",
       "  </thead>\n",
       "  <tbody>\n",
       "    <tr>\n",
       "      <th>0</th>\n",
       "      <td>12.144536</td>\n",
       "      <td>12.144536</td>\n",
       "      <td>0.105927</td>\n",
       "      <td>-0.105927</td>\n",
       "      <td>0.500278</td>\n",
       "      <td>13.705882</td>\n",
       "      <td>232.323</td>\n",
       "      <td>212.163</td>\n",
       "      <td>232.146330</td>\n",
       "      <td>92</td>\n",
       "      <td>...</td>\n",
       "      <td>0</td>\n",
       "      <td>0</td>\n",
       "      <td>0</td>\n",
       "      <td>0</td>\n",
       "      <td>0</td>\n",
       "      <td>0</td>\n",
       "      <td>0</td>\n",
       "      <td>0</td>\n",
       "      <td>3</td>\n",
       "      <td>0</td>\n",
       "    </tr>\n",
       "    <tr>\n",
       "      <th>1</th>\n",
       "      <td>3.523412</td>\n",
       "      <td>3.523412</td>\n",
       "      <td>0.098918</td>\n",
       "      <td>0.098918</td>\n",
       "      <td>0.125364</td>\n",
       "      <td>16.777778</td>\n",
       "      <td>598.919</td>\n",
       "      <td>544.487</td>\n",
       "      <td>598.428700</td>\n",
       "      <td>236</td>\n",
       "      <td>...</td>\n",
       "      <td>0</td>\n",
       "      <td>0</td>\n",
       "      <td>0</td>\n",
       "      <td>0</td>\n",
       "      <td>0</td>\n",
       "      <td>0</td>\n",
       "      <td>0</td>\n",
       "      <td>0</td>\n",
       "      <td>2</td>\n",
       "      <td>0</td>\n",
       "    </tr>\n",
       "    <tr>\n",
       "      <th>2</th>\n",
       "      <td>13.714745</td>\n",
       "      <td>13.714745</td>\n",
       "      <td>0.107441</td>\n",
       "      <td>-3.829434</td>\n",
       "      <td>0.092387</td>\n",
       "      <td>16.301370</td>\n",
       "      <td>1003.207</td>\n",
       "      <td>952.807</td>\n",
       "      <td>1002.289625</td>\n",
       "      <td>364</td>\n",
       "      <td>...</td>\n",
       "      <td>0</td>\n",
       "      <td>0</td>\n",
       "      <td>2</td>\n",
       "      <td>0</td>\n",
       "      <td>0</td>\n",
       "      <td>0</td>\n",
       "      <td>0</td>\n",
       "      <td>0</td>\n",
       "      <td>0</td>\n",
       "      <td>0</td>\n",
       "    </tr>\n",
       "    <tr>\n",
       "      <th>3</th>\n",
       "      <td>3.978671</td>\n",
       "      <td>3.978671</td>\n",
       "      <td>0.054569</td>\n",
       "      <td>-0.202102</td>\n",
       "      <td>0.209590</td>\n",
       "      <td>11.523810</td>\n",
       "      <td>542.726</td>\n",
       "      <td>508.454</td>\n",
       "      <td>542.272199</td>\n",
       "      <td>204</td>\n",
       "      <td>...</td>\n",
       "      <td>0</td>\n",
       "      <td>0</td>\n",
       "      <td>0</td>\n",
       "      <td>0</td>\n",
       "      <td>0</td>\n",
       "      <td>0</td>\n",
       "      <td>0</td>\n",
       "      <td>0</td>\n",
       "      <td>0</td>\n",
       "      <td>0</td>\n",
       "    </tr>\n",
       "    <tr>\n",
       "      <th>4</th>\n",
       "      <td>13.703218</td>\n",
       "      <td>13.703218</td>\n",
       "      <td>0.068062</td>\n",
       "      <td>-0.686332</td>\n",
       "      <td>0.014164</td>\n",
       "      <td>15.885714</td>\n",
       "      <td>965.154</td>\n",
       "      <td>896.610</td>\n",
       "      <td>964.483374</td>\n",
       "      <td>376</td>\n",
       "      <td>...</td>\n",
       "      <td>0</td>\n",
       "      <td>0</td>\n",
       "      <td>0</td>\n",
       "      <td>0</td>\n",
       "      <td>0</td>\n",
       "      <td>0</td>\n",
       "      <td>0</td>\n",
       "      <td>0</td>\n",
       "      <td>12</td>\n",
       "      <td>0</td>\n",
       "    </tr>\n",
       "  </tbody>\n",
       "</table>\n",
       "<p>5 rows × 217 columns</p>\n",
       "</div>"
      ],
      "text/plain": [
       "   MaxAbsEStateIndex  MaxEStateIndex  MinAbsEStateIndex  MinEStateIndex  \\\n",
       "0          12.144536       12.144536           0.105927       -0.105927   \n",
       "1           3.523412        3.523412           0.098918        0.098918   \n",
       "2          13.714745       13.714745           0.107441       -3.829434   \n",
       "3           3.978671        3.978671           0.054569       -0.202102   \n",
       "4          13.703218       13.703218           0.068062       -0.686332   \n",
       "\n",
       "        qed        SPS     MolWt  HeavyAtomMolWt   ExactMolWt  \\\n",
       "0  0.500278  13.705882   232.323         212.163   232.146330   \n",
       "1  0.125364  16.777778   598.919         544.487   598.428700   \n",
       "2  0.092387  16.301370  1003.207         952.807  1002.289625   \n",
       "3  0.209590  11.523810   542.726         508.454   542.272199   \n",
       "4  0.014164  15.885714   965.154         896.610   964.483374   \n",
       "\n",
       "   NumValenceElectrons  ...  fr_sulfide  fr_sulfonamd  fr_sulfone  \\\n",
       "0                   92  ...           0             0           0   \n",
       "1                  236  ...           0             0           0   \n",
       "2                  364  ...           0             0           2   \n",
       "3                  204  ...           0             0           0   \n",
       "4                  376  ...           0             0           0   \n",
       "\n",
       "   fr_term_acetylene  fr_tetrazole  fr_thiazole  fr_thiocyan  fr_thiophene  \\\n",
       "0                  0             0            0            0             0   \n",
       "1                  0             0            0            0             0   \n",
       "2                  0             0            0            0             0   \n",
       "3                  0             0            0            0             0   \n",
       "4                  0             0            0            0             0   \n",
       "\n",
       "   fr_unbrch_alkane  fr_urea  \n",
       "0                 3        0  \n",
       "1                 2        0  \n",
       "2                 0        0  \n",
       "3                 0        0  \n",
       "4                12        0  \n",
       "\n",
       "[5 rows x 217 columns]"
      ]
     },
     "execution_count": 30,
     "metadata": {},
     "output_type": "execute_result"
    }
   ],
   "source": [
    "descriptors_train.head()"
   ]
  },
  {
   "cell_type": "markdown",
   "id": "6f114a5b",
   "metadata": {},
   "source": [
    "記述子計算後の後処理"
   ]
  },
  {
   "cell_type": "code",
   "execution_count": 43,
   "id": "bdcf9034",
   "metadata": {},
   "outputs": [
    {
     "name": "stdout",
     "output_type": "stream",
     "text": [
      "Initial number of columns: 217\n",
      "After dropping columns with missing values: 204\n",
      "After dropping columns with zero standard deviation: 192\n"
     ]
    }
   ],
   "source": [
    "def select_col(df):\n",
    "    # 0. 初期のカラム数を表示\n",
    "    print(f\"Initial number of columns: {len(df.columns)}\")\n",
    "    \n",
    "    # 1. 無限大な値をNaNに置換\n",
    "    df.replace([np.inf, -np.inf], np.nan, inplace=True)\n",
    "    \n",
    "    # 2. 明らかに大きすぎる値（float32オーバーフロー）をNaNにする\n",
    "    max_float32 = np.finfo(np.float32).max\n",
    "    df = df.where(df.abs() <= max_float32, np.nan)\n",
    "\n",
    "    # 3. 欠損値のあるカラムを削除\n",
    "    df = df.dropna(axis=1)\n",
    "    print(f\"After dropping columns with missing values: {len(df.columns)}\")\n",
    "\n",
    "    # 4. 標準偏差が0（すべての値が同じ）のカラムを削除\n",
    "    df = df.loc[:, df.std(numeric_only=True) != 0]\n",
    "    print(f\"After dropping columns with zero standard deviation: {len(df.columns)}\")\n",
    "\n",
    "    return df\n",
    "\n",
    "descriptors_train_selected = select_col(descriptors_train)"
   ]
  },
  {
   "cell_type": "markdown",
   "id": "08ff2766",
   "metadata": {},
   "source": [
    "PCAで記述子の次元削減"
   ]
  },
  {
   "cell_type": "code",
   "execution_count": 44,
   "id": "ae3e418a",
   "metadata": {},
   "outputs": [],
   "source": [
    "from sklearn.decomposition import PCA\n",
    "from sklearn.preprocessing import StandardScaler"
   ]
  },
  {
   "cell_type": "code",
   "execution_count": 45,
   "id": "826767a2",
   "metadata": {},
   "outputs": [],
   "source": [
    "# 正規化\n",
    "sc = StandardScaler().fit(descriptors_train_selected)\n",
    "descriptors_train_scaled = sc.transform(descriptors_train_selected)\n",
    "\n",
    "descriptors_train_scaled = pd.DataFrame(descriptors_train_scaled, columns=descriptors_train_selected.columns)"
   ]
  },
  {
   "cell_type": "code",
   "execution_count": null,
   "id": "7bfc0e6b",
   "metadata": {},
   "outputs": [
    {
     "data": {
      "image/png": "[encoded data removed]",
      "text/plain": [
       "<Figure size 640x480 with 1 Axes>"
      ]
     },
     "metadata": {},
     "output_type": "display_data"
    }
   ],
   "source": [
    "# PCA\n",
    "pca = PCA() # n_components=0.95等を代入\n",
    "pca.fit(descriptors_train_scaled)  # PCA を実行\n",
    "# ローディング\n",
    "loadings = pd.DataFrame(pca.components_.T, index=descriptors_train_scaled.columns)\n",
    "# loadings.to_csv('pca_loadings.csv')\n",
    "# スコア\n",
    "score = pd.DataFrame(pca.transform(descriptors_train_scaled), index=descriptors_train_scaled.index)\n",
    "#score.to_csv('pca_score.csv')\n",
    "# 寄与率、累積寄与率\n",
    "contribution_ratios = pd.DataFrame(pca.explained_variance_ratio_)  # 寄与率を DataFrame 型に変換\n",
    "cumulative_contribution_ratios = contribution_ratios.cumsum()  # cumsum() で寄与率の累積和を計算\n",
    "cont_cumcont_ratios = pd.concat(\n",
    "    [contribution_ratios, cumulative_contribution_ratios],\n",
    "    axis=1).T\n",
    "cont_cumcont_ratios.index = ['contribution_ratio', 'cumulative_contribution_ratio']  # 行の名前を変更\n",
    "# cont_cumcont_ratios.to_csv('pca_cont_cumcont_ratios.csv')\n",
    "\n",
    "# 寄与率を棒グラフで、累積寄与率を線で入れたプロット図を重ねて描画\n",
    "x_axis = range(1, contribution_ratios.shape[0] + 1)  # 1 から成分数までの整数が x 軸の値\n",
    "plt.bar(x_axis, contribution_ratios.iloc[:, 0], align='center')  # 寄与率の棒グラフ\n",
    "plt.plot(x_axis, cumulative_contribution_ratios.iloc[:, 0], 'r.-')  # 累積寄与率の線を入れたプロット図\n",
    "plt.xlabel('Number of principal components')  # 横軸の名前\n",
    "plt.ylabel('Contribution ratio(blue),\\nCumulative contribution ratio(red)')  # 縦軸の名前。\\n で改行しています\n",
    "plt.show()"
   ]
  },
  {
   "cell_type": "code",
   "execution_count": 63,
   "id": "dacb55a9",
   "metadata": {},
   "outputs": [],
   "source": [
    "# ここまでを出力\n",
    "descriptors_train_scaled.to_csv('mordred_train_scaled.csv', index=False)\n",
    "score.to_csv('train_pca.csv', index=False)\n"
   ]
  },
  {
   "cell_type": "markdown",
   "id": "9767066c",
   "metadata": {},
   "source": [
    "# 記述子（Mordred Ver.）"
   ]
  },
  {
   "cell_type": "code",
   "execution_count": 47,
   "id": "66c0ed3d",
   "metadata": {},
   "outputs": [],
   "source": [
    "from mordred import Calculator, descriptors"
   ]
  },
  {
   "cell_type": "code",
   "execution_count": 48,
   "id": "bcac132e",
   "metadata": {},
   "outputs": [
    {
     "name": "stdout",
     "output_type": "stream",
     "text": [
      "分子の数 : 7973\n"
     ]
    }
   ],
   "source": [
    "# Mordred記述子の準備（すべての記述子、3D記述子は除外）\n",
    "calc = Calculator(descriptors, ignore_3D=True)\n",
    "\n",
    "# 分子の数\n",
    "print('分子の数 :', len(train_smiles))"
   ]
  },
  {
   "cell_type": "code",
   "execution_count": 49,
   "id": "427f5f69",
   "metadata": {},
   "outputs": [
    {
     "name": "stderr",
     "output_type": "stream",
     "text": [
      "  0%|          | 25/7973 [00:05<14:52,  8.90it/s]  "
     ]
    },
    {
     "name": "stdout",
     "output_type": "stream",
     "text": [
      "c:\\data\\titnic\\venv312\\Lib\\site-packages\\numpy\\core\\fromnumeric.py:88: RuntimeWarning: overflow encountered in reduce\n",
      "  return ufunc.reduce(obj, axis, dtype, out, **passkwargs)\n",
      "c:\\data\\titnic\\venv312\\Lib\\site-packages\\numpy\\core\\fromnumeric.py:88: RuntimeWarning: overflow encountered in reduce\n",
      "  return ufunc.reduce(obj, axis, dtype, out, **passkwargs)\n",
      "c:\\data\\titnic\\venv312\\Lib\\site-packages\\numpy\\core\\fromnumeric.py:88: RuntimeWarning: overflow encountered in reduce\n",
      "  return ufunc.reduce(obj, axis, dtype, out, **passkwargs)\n",
      "c:\\data\\titnic\\venv312\\Lib\\site-packages\\numpy\\core\\fromnumeric.py:88: RuntimeWarning: overflow encountered in reduce\n",
      "  return ufunc.reduce(obj, axis, dtype, out, **passkwargs)\n",
      "c:\\data\\titnic\\venv312\\Lib\\site-packages\\numpy\\core\\fromnumeric.py:88: RuntimeWarning: overflow encountered in reduce\n",
      "  return ufunc.reduce(obj, axis, dtype, out, **passkwargs)\n",
      "c:\\data\\titnic\\venv312\\Lib\\site-packages\\numpy\\core\\fromnumeric.py:88: RuntimeWarning: overflow encountered in reduce\n",
      "  return ufunc.reduce(obj, axis, dtype, out, **passkwargs)\n"
     ]
    },
    {
     "name": "stderr",
     "output_type": "stream",
     "text": [
      "  0%|          | 34/7973 [00:06<16:06,  8.22it/s]"
     ]
    },
    {
     "name": "stdout",
     "output_type": "stream",
     "text": [
      "c:\\data\\titnic\\venv312\\Lib\\site-packages\\numpy\\core\\fromnumeric.py:88: RuntimeWarning: overflow encountered in reduce\n",
      "  return ufunc.reduce(obj, axis, dtype, out, **passkwargs)\n"
     ]
    },
    {
     "name": "stderr",
     "output_type": "stream",
     "text": [
      "  1%|          | 71/7973 [00:07<05:23, 24.40it/s]"
     ]
    },
    {
     "name": "stdout",
     "output_type": "stream",
     "text": [
      "c:\\data\\titnic\\venv312\\Lib\\site-packages\\numpy\\core\\fromnumeric.py:88: RuntimeWarning: overflow encountered in reduce\n",
      "  return ufunc.reduce(obj, axis, dtype, out, **passkwargs)\n",
      "c:\\data\\titnic\\venv312\\Lib\\site-packages\\numpy\\core\\fromnumeric.py:88: RuntimeWarning: overflow encountered in reduce\n",
      "  return ufunc.reduce(obj, axis, dtype, out, **passkwargs)\n"
     ]
    },
    {
     "name": "stderr",
     "output_type": "stream",
     "text": [
      "  1%|          | 92/7973 [00:09<08:34, 15.33it/s]"
     ]
    },
    {
     "name": "stdout",
     "output_type": "stream",
     "text": [
      "c:\\data\\titnic\\venv312\\Lib\\site-packages\\numpy\\core\\fromnumeric.py:88: RuntimeWarning: overflow encountered in reduce\n",
      "  return ufunc.reduce(obj, axis, dtype, out, **passkwargs)\n"
     ]
    },
    {
     "name": "stderr",
     "output_type": "stream",
     "text": [
      "  3%|▎         | 214/7973 [00:13<10:45, 12.03it/s]"
     ]
    },
    {
     "name": "stdout",
     "output_type": "stream",
     "text": [
      "c:\\data\\titnic\\venv312\\Lib\\site-packages\\numpy\\core\\fromnumeric.py:88: RuntimeWarning: overflow encountered in reduce\n",
      "  return ufunc.reduce(obj, axis, dtype, out, **passkwargs)\n"
     ]
    },
    {
     "name": "stderr",
     "output_type": "stream",
     "text": [
      "  4%|▍         | 335/7973 [00:18<05:27, 23.35it/s]"
     ]
    },
    {
     "name": "stdout",
     "output_type": "stream",
     "text": [
      "c:\\data\\titnic\\venv312\\Lib\\site-packages\\numpy\\core\\fromnumeric.py:88: RuntimeWarning: overflow encountered in reduce\n",
      "  return ufunc.reduce(obj, axis, dtype, out, **passkwargs)\n"
     ]
    },
    {
     "name": "stderr",
     "output_type": "stream",
     "text": [
      "100%|██████████| 7973/7973 [06:04<00:00, 21.90it/s]\n"
     ]
    }
   ],
   "source": [
    "# 記述子の計算(時間がかかるので注意)\n",
    "mols = [Chem.MolFromSmiles(smi) for smi in train_smiles]\n",
    "mordred_train = calc.pandas(mols)  # DataFrame形式で取得"
   ]
  },
  {
   "cell_type": "markdown",
   "id": "bcb1a7a8",
   "metadata": {},
   "source": [
    "後処理"
   ]
  },
  {
   "cell_type": "code",
   "execution_count": 52,
   "id": "80f6b8a7",
   "metadata": {},
   "outputs": [
    {
     "name": "stdout",
     "output_type": "stream",
     "text": [
      "(7973, 1613)\n",
      "(7973, 1584)\n",
      "(7973, 686)\n",
      "(7973, 569)\n"
     ]
    }
   ],
   "source": [
    "print(mordred_train.shape)\n",
    "\n",
    "# 欠損値を含む記述子（カラム）を削除\n",
    "mordred_train = mordred_train.dropna(axis=1)\n",
    "print(mordred_train.shape)\n",
    "\n",
    "# 数値型の列だけを残す（float, intなど）\n",
    "descriptors_numeric = mordred_train.select_dtypes(include=['number'])\n",
    "print(descriptors_numeric.shape)\n",
    "\n",
    "# 標準偏差が0の列を削除\n",
    "zero_std_columns = descriptors_numeric.std()[descriptors_numeric.std() == 0].index\n",
    "mordred_train = descriptors_numeric.drop(columns=zero_std_columns)\n",
    "print(mordred_train.shape)\n"
   ]
  },
  {
   "cell_type": "code",
   "execution_count": 53,
   "id": "8a85eaa5",
   "metadata": {},
   "outputs": [],
   "source": [
    "mordred_train.to_csv('mordred_train.csv', index=False)"
   ]
  },
  {
   "cell_type": "markdown",
   "id": "33d10b78",
   "metadata": {},
   "source": [
    "# FingerPrintの計算"
   ]
  },
  {
   "cell_type": "code",
   "execution_count": 54,
   "id": "c4259152",
   "metadata": {},
   "outputs": [],
   "source": [
    "import numpy as np\n",
    "import pandas as pd\n",
    "from rdkit import Chem\n",
    "from rdkit.Avalon.pyAvalonTools import GetAvalonFP\n",
    "from rdkit.Chem import AllChem\n",
    "from rdkit.Chem.rdFingerprintGenerator import GetMorganGenerator"
   ]
  },
  {
   "cell_type": "code",
   "execution_count": null,
   "id": "b6ea4e1b",
   "metadata": {},
   "outputs": [],
   "source": [
    "fp_type = 2  # 0: MACCS key, 1: RDKit, 2: Morgan, 3: Avalon\n",
    "fp_train = []\n",
    "\n",
    "for index, smiles_i in enumerate(train_smiles):\n",
    "    #print(index + 1, '/', len(smiles))\n",
    "    molecule = Chem.MolFromSmiles(smiles_i)\n",
    "    if fp_type == 0:\n",
    "        fp_train.append(AllChem.GetMACCSKeysfp(molecule))\n",
    "    elif fp_type == 1:\n",
    "        fp_train.append(Chem.RDKfp(molecule))\n",
    "    elif fp_type == 2:\n",
    "        morgan_gen = GetMorganGenerator(radius=2, fpSize=2048)\n",
    "        morgan_fps = morgan_gen.GetFingerprint(molecule)\n",
    "        fp_train.append(morgan_fps)\n",
    "    elif fp_type == 3:\n",
    "        fp_train.append(GetAvalonFP(molecule))\n",
    "        \n",
    "fp_train = pd.DataFrame(np.array(fp_train, int), index=train_df.index)"
   ]
  },
  {
   "cell_type": "code",
   "execution_count": null,
   "id": "c9cb5152",
   "metadata": {},
   "outputs": [
    {
     "data": {
      "text/html": [
       "<div>\n",
       "<style scoped>\n",
       "    .dataframe tbody tr th:only-of-type {\n",
       "        vertical-align: middle;\n",
       "    }\n",
       "\n",
       "    .dataframe tbody tr th {\n",
       "        vertical-align: top;\n",
       "    }\n",
       "\n",
       "    .dataframe thead th {\n",
       "        text-align: right;\n",
       "    }\n",
       "</style>\n",
       "<table border=\"1\" class=\"dataframe\">\n",
       "  <thead>\n",
       "    <tr style=\"text-align: right;\">\n",
       "      <th></th>\n",
       "      <th>FP_0</th>\n",
       "      <th>FP_1</th>\n",
       "      <th>FP_2</th>\n",
       "      <th>FP_3</th>\n",
       "      <th>FP_4</th>\n",
       "      <th>FP_5</th>\n",
       "      <th>FP_6</th>\n",
       "      <th>FP_7</th>\n",
       "      <th>FP_8</th>\n",
       "      <th>FP_9</th>\n",
       "      <th>...</th>\n",
       "      <th>FP_2038</th>\n",
       "      <th>FP_2039</th>\n",
       "      <th>FP_2040</th>\n",
       "      <th>FP_2041</th>\n",
       "      <th>FP_2042</th>\n",
       "      <th>FP_2043</th>\n",
       "      <th>FP_2044</th>\n",
       "      <th>FP_2045</th>\n",
       "      <th>FP_2046</th>\n",
       "      <th>FP_2047</th>\n",
       "    </tr>\n",
       "  </thead>\n",
       "  <tbody>\n",
       "    <tr>\n",
       "      <th>0</th>\n",
       "      <td>0</td>\n",
       "      <td>1</td>\n",
       "      <td>0</td>\n",
       "      <td>0</td>\n",
       "      <td>0</td>\n",
       "      <td>0</td>\n",
       "      <td>0</td>\n",
       "      <td>0</td>\n",
       "      <td>0</td>\n",
       "      <td>0</td>\n",
       "      <td>...</td>\n",
       "      <td>0</td>\n",
       "      <td>0</td>\n",
       "      <td>0</td>\n",
       "      <td>0</td>\n",
       "      <td>0</td>\n",
       "      <td>0</td>\n",
       "      <td>0</td>\n",
       "      <td>0</td>\n",
       "      <td>0</td>\n",
       "      <td>0</td>\n",
       "    </tr>\n",
       "    <tr>\n",
       "      <th>1</th>\n",
       "      <td>0</td>\n",
       "      <td>1</td>\n",
       "      <td>0</td>\n",
       "      <td>0</td>\n",
       "      <td>0</td>\n",
       "      <td>0</td>\n",
       "      <td>0</td>\n",
       "      <td>0</td>\n",
       "      <td>0</td>\n",
       "      <td>0</td>\n",
       "      <td>...</td>\n",
       "      <td>0</td>\n",
       "      <td>0</td>\n",
       "      <td>0</td>\n",
       "      <td>0</td>\n",
       "      <td>0</td>\n",
       "      <td>0</td>\n",
       "      <td>0</td>\n",
       "      <td>0</td>\n",
       "      <td>0</td>\n",
       "      <td>0</td>\n",
       "    </tr>\n",
       "    <tr>\n",
       "      <th>2</th>\n",
       "      <td>0</td>\n",
       "      <td>0</td>\n",
       "      <td>1</td>\n",
       "      <td>0</td>\n",
       "      <td>0</td>\n",
       "      <td>0</td>\n",
       "      <td>0</td>\n",
       "      <td>0</td>\n",
       "      <td>0</td>\n",
       "      <td>0</td>\n",
       "      <td>...</td>\n",
       "      <td>0</td>\n",
       "      <td>0</td>\n",
       "      <td>0</td>\n",
       "      <td>0</td>\n",
       "      <td>0</td>\n",
       "      <td>0</td>\n",
       "      <td>0</td>\n",
       "      <td>0</td>\n",
       "      <td>0</td>\n",
       "      <td>0</td>\n",
       "    </tr>\n",
       "    <tr>\n",
       "      <th>3</th>\n",
       "      <td>0</td>\n",
       "      <td>0</td>\n",
       "      <td>0</td>\n",
       "      <td>0</td>\n",
       "      <td>0</td>\n",
       "      <td>0</td>\n",
       "      <td>0</td>\n",
       "      <td>0</td>\n",
       "      <td>0</td>\n",
       "      <td>0</td>\n",
       "      <td>...</td>\n",
       "      <td>0</td>\n",
       "      <td>0</td>\n",
       "      <td>0</td>\n",
       "      <td>0</td>\n",
       "      <td>0</td>\n",
       "      <td>0</td>\n",
       "      <td>0</td>\n",
       "      <td>0</td>\n",
       "      <td>0</td>\n",
       "      <td>0</td>\n",
       "    </tr>\n",
       "    <tr>\n",
       "      <th>4</th>\n",
       "      <td>0</td>\n",
       "      <td>0</td>\n",
       "      <td>0</td>\n",
       "      <td>0</td>\n",
       "      <td>0</td>\n",
       "      <td>0</td>\n",
       "      <td>0</td>\n",
       "      <td>0</td>\n",
       "      <td>0</td>\n",
       "      <td>0</td>\n",
       "      <td>...</td>\n",
       "      <td>0</td>\n",
       "      <td>0</td>\n",
       "      <td>0</td>\n",
       "      <td>0</td>\n",
       "      <td>0</td>\n",
       "      <td>0</td>\n",
       "      <td>0</td>\n",
       "      <td>0</td>\n",
       "      <td>0</td>\n",
       "      <td>0</td>\n",
       "    </tr>\n",
       "  </tbody>\n",
       "</table>\n",
       "<p>5 rows × 2048 columns</p>\n",
       "</div>"
      ],
      "text/plain": [
       "   FP_0  FP_1  FP_2  FP_3  FP_4  FP_5  FP_6  FP_7  FP_8  FP_9  ...  FP_2038  \\\n",
       "0     0     1     0     0     0     0     0     0     0     0  ...        0   \n",
       "1     0     1     0     0     0     0     0     0     0     0  ...        0   \n",
       "2     0     0     1     0     0     0     0     0     0     0  ...        0   \n",
       "3     0     0     0     0     0     0     0     0     0     0  ...        0   \n",
       "4     0     0     0     0     0     0     0     0     0     0  ...        0   \n",
       "\n",
       "   FP_2039  FP_2040  FP_2041  FP_2042  FP_2043  FP_2044  FP_2045  FP_2046  \\\n",
       "0        0        0        0        0        0        0        0        0   \n",
       "1        0        0        0        0        0        0        0        0   \n",
       "2        0        0        0        0        0        0        0        0   \n",
       "3        0        0        0        0        0        0        0        0   \n",
       "4        0        0        0        0        0        0        0        0   \n",
       "\n",
       "   FP_2047  \n",
       "0        0  \n",
       "1        0  \n",
       "2        0  \n",
       "3        0  \n",
       "4        0  \n",
       "\n",
       "[5 rows x 2048 columns]"
      ]
     },
     "execution_count": 60,
     "metadata": {},
     "output_type": "execute_result"
    }
   ],
   "source": [
    "# カラム名を変更\n",
    "fp_names = []\n",
    "for i in range(2048):\n",
    "    fp_names.append(f\"FP_{i}\")\n",
    "\n",
    "fp_train.columns = fp_names\n",
    "fp_train.head()"
   ]
  },
  {
   "cell_type": "code",
   "execution_count": 61,
   "id": "4fc569a4",
   "metadata": {},
   "outputs": [
    {
     "name": "stdout",
     "output_type": "stream",
     "text": [
      "Initial number of columns: 2048\n",
      "After dropping columns with zero standard deviation: 2047\n"
     ]
    }
   ],
   "source": [
    "# 標準偏差が０のカラムを削除\n",
    "print(f\"Initial number of columns: {len(fp_train.columns)}\")\n",
    "fp_train = fp_train.loc[:, fp_train.std(numeric_only=True) != 0]\n",
    "print(f\"After dropping columns with zero standard deviation: {len(fp_train.columns)}\")"
   ]
  },
  {
   "cell_type": "code",
   "execution_count": 62,
   "id": "820be8e5",
   "metadata": {},
   "outputs": [
    {
     "name": "stderr",
     "output_type": "stream",
     "text": [
      "[NbConvertApp] Converting notebook RDKIT_descriptors.ipynb to html\n",
      "[NbConvertApp] WARNING | Alternative text is missing on 1 image(s).\n",
      "[NbConvertApp] Writing 355561 bytes to RDKIT_descriptors.html\n"
     ]
    }
   ],
   "source": [
    "!jupyter nbconvert --to html RDKIT_descriptors.ipynb"
   ]
  }
 ],
 "metadata": {
  "kernelspec": {
   "display_name": "venv312",
   "language": "python",
   "name": "python3"
  },
  "language_info": {
   "codemirror_mode": {
    "name": "ipython",
    "version": 3
   },
   "file_extension": ".py",
   "mimetype": "text/x-python",
   "name": "python",
   "nbconvert_exporter": "python",
   "pygments_lexer": "ipython3",
   "version": "3.12.2"
  }
 },
 "nbformat": 4,
 "nbformat_minor": 5
}
