{
 "cells": [
  {
   "cell_type": "markdown",
   "id": "e0ab5aaf",
   "metadata": {},
   "source": [
    "# Optunaでハイパーパラメーターの調整"
   ]
  },
  {
   "cell_type": "markdown",
   "id": "3d8ab6fc",
   "metadata": {},
   "source": [
    "パラメーターは回帰分析を前提として設定"
   ]
  },
  {
   "cell_type": "markdown",
   "id": "a9bd7bf4",
   "metadata": {},
   "source": [
    "・LightGBM  \n",
    "・CatBoost  \n",
    "・RandomForest"
   ]
  },
  {
   "cell_type": "code",
   "execution_count": 1,
   "id": "b34798c8",
   "metadata": {},
   "outputs": [],
   "source": [
    "import numpy as np\n",
    "import pandas as pd\n",
    "\n",
    "import joblib\n",
    "import optuna\n",
    "\n",
    "import matplotlib.pyplot as plt\n",
    "import seaborn as sns\n",
    "%matplotlib inline\n",
    "\n",
    "from sklearn.metrics import mean_squared_error, mean_squared_log_error\n",
    "from sklearn.preprocessing import StandardScaler, MinMaxScaler\n",
    "from sklearn.model_selection import KFold, StratifiedKFold, train_test_split\n",
    "import lightgbm as lgb\n",
    "from catboost import CatBoostRegressor\n",
    "import warnings\n",
    "warnings.filterwarnings(\"ignore\")"
   ]
  },
  {
   "cell_type": "code",
   "execution_count": null,
   "id": "2169975a",
   "metadata": {},
   "outputs": [],
   "source": [
    "train_df = pd.read_csv(\"train.csv\")"
   ]
  },
  {
   "cell_type": "code",
   "execution_count": null,
   "id": "848d3e54",
   "metadata": {},
   "outputs": [],
   "source": [
    "X = train_df[['Sex', 'Age', 'Height', 'Weight', 'Duration', 'Heart_Rate', 'Body_Temp']]\n",
    "y = train_df[\"Calories_log\"]"
   ]
  },
  {
   "cell_type": "markdown",
   "id": "89ed4422",
   "metadata": {},
   "source": [
    "# 1. LightGBM"
   ]
  },
  {
   "cell_type": "code",
   "execution_count": null,
   "id": "c5e22cb1",
   "metadata": {},
   "outputs": [],
   "source": [
    "params_base = {\"boosting_type\": \"gbdt\",\n",
    "              \"objective\": \"regression\",\n",
    "              \"metric\": \"rmse\",\n",
    "              \"learning_rate\": 0.1,\n",
    "              'n_estimators': 100000,\n",
    "              \"bagging_freq\": 1,\n",
    "              \"seed\": 42}"
   ]
  },
  {
   "cell_type": "code",
   "execution_count": null,
   "id": "1b930b7a",
   "metadata": {},
   "outputs": [],
   "source": [
    "def objective_LGBM(trial):\n",
    "    \n",
    "    params_tuning = {\n",
    "        \"num_leaves\": trial.suggest_int(\"num_leaves\", 16, 128),\n",
    "        \"min_data_in_leaf\": trial.suggest_int(\"min_data_in_leaf\", 5, 50),  # 100 → 50 に\n",
    "        \"min_sum_hessian_in_leaf\": trial.suggest_float(\"min_sum_hessian_in_leaf\", 1e-3, 5.0, log=True),  # 20.0 → 5.0\n",
    "        \"feature_fraction\": trial.suggest_float(\"feature_fraction\", 0.6, 1.0),  # 0.5 → 0.6\n",
    "        \"bagging_fraction\": trial.suggest_float(\"bagging_fraction\", 0.6, 1.0),\n",
    "        \"lambda_l1\": trial.suggest_float(\"lambda_l1\", 1e-2, 10.0, log=True),\n",
    "        \"lambda_l2\": trial.suggest_float(\"lambda_l2\", 1e-2, 10.0, log=True),\n",
    "        }\n",
    "    \n",
    "    print(f\"Trial {trial.number} parameters: {params_tuning}\")\n",
    "    \n",
    "    params_tuning.update(params_base)\n",
    "    \n",
    "    list_metrics = []\n",
    "    cv = list(KFold(n_splits=5, shuffle=True, random_state=42).split(X, y))\n",
    "    \n",
    "    for nfold in range(5):\n",
    "        idx_tr, idx_va = cv[nfold]\n",
    "        X_tr, y_tr = X.iloc[idx_tr], y.iloc[idx_tr]\n",
    "        X_va, y_va = X.iloc[idx_va], y.iloc[idx_va]\n",
    "        \n",
    "        model = lgb.LGBMRegressor(**params_tuning)\n",
    "        model.fit(X_tr,\n",
    "                  y_tr,\n",
    "                  eval_set=[(X_tr,y_tr), (X_va,y_va)],\n",
    "                  eval_metric=\"rmse\",\n",
    "                  callbacks=[lgb.early_stopping(stopping_rounds=50, verbose=False), lgb.log_evaluation(0)]\n",
    "                  )\n",
    "        y_va_pred = model.predict(X_va, num_iteration=model.best_iteration_)\n",
    "        metric_test = np.sqrt(mean_squared_error(y_va, y_va_pred))\n",
    "        list_metrics.append(metric_test)\n",
    "\n",
    "    metrics = np.mean(list_metrics)\n",
    "    \n",
    "    return metrics"
   ]
  },
  {
   "cell_type": "code",
   "execution_count": null,
   "id": "0daaebb6",
   "metadata": {},
   "outputs": [],
   "source": [
    "optuna.logging.set_verbosity(optuna.logging.WARNING)\n",
    "\n",
    "sampler = optuna.samplers.TPESampler(seed=42)\n",
    "study = optuna.create_study(sampler=sampler, direction=\"minimize\")\n",
    "study.optimize(objective_LGBM, n_trials=50)"
   ]
  },
  {
   "cell_type": "code",
   "execution_count": null,
   "id": "69697001",
   "metadata": {},
   "outputs": [],
   "source": [
    "trial = study.best_trial\n",
    "print(f\"BestScore={trial.value:.5f}\")\n",
    "display(trial.params)"
   ]
  },
  {
   "cell_type": "code",
   "execution_count": null,
   "id": "bcd8e4ac",
   "metadata": {},
   "outputs": [],
   "source": [
    "best_params = {\n",
    "    'num_leaves': 79,\n",
    "    'min_data_in_leaf': 7,\n",
    "    'min_sum_hessian_in_leaf': 0.016726647861247466,\n",
    "    'feature_fraction': 0.6197653331486828,\n",
    "    'bagging_fraction': 0.968348369135033,\n",
    "    'lambda_l1': 3.4435101234752388,\n",
    "    'lambda_l2': 1.5321517484670413\n",
    "    }\n",
    "best_params.update(params_base)"
   ]
  },
  {
   "cell_type": "code",
   "execution_count": null,
   "id": "b2101e5d",
   "metadata": {},
   "outputs": [],
   "source": []
  }
 ],
 "metadata": {
  "kernelspec": {
   "display_name": "venv312",
   "language": "python",
   "name": "python3"
  },
  "language_info": {
   "codemirror_mode": {
    "name": "ipython",
    "version": 3
   },
   "file_extension": ".py",
   "mimetype": "text/x-python",
   "name": "python",
   "nbconvert_exporter": "python",
   "pygments_lexer": "ipython3",
   "version": "3.12.2"
  }
 },
 "nbformat": 4,
 "nbformat_minor": 5
}
