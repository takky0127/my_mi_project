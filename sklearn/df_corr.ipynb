{
 "cells": [
  {
   "cell_type": "code",
   "execution_count": 6,
   "id": "e4a8455a",
   "metadata": {},
   "outputs": [],
   "source": [
    "import pandas as pd\n",
    "import numpy as np\n",
    "\n",
    "def get_highly_correlated_pairs(df: pd.DataFrame, threshold: float = 0.95):\n",
    "    \"\"\"\n",
    "    データフレーム中のカラム間で、相関係数が指定した閾値以上の組み合わせを一覧で取得する関数\n",
    "    \n",
    "    Parameters\n",
    "    ----------\n",
    "    df : pd.DataFrame\n",
    "        対象のデータフレーム（数値データのみ）\n",
    "    threshold : float, default=0.95\n",
    "        相関係数の閾値\n",
    "    \n",
    "    Returns\n",
    "    -------\n",
    "    correlated_pairs : pd.DataFrame\n",
    "        カラムペアとその相関係数をまとめたDataFrame\n",
    "    \"\"\"\n",
    "    # 相関行列を計算（絶対値を取る）\n",
    "    corr_matrix = df.corr().abs()\n",
    "\n",
    "    # 上三角行列のみを対象にして、重複を除く\n",
    "    upper = corr_matrix.where(\n",
    "        np.triu(np.ones(corr_matrix.shape), k=1).astype(bool)\n",
    "    )\n",
    "\n",
    "    # 閾値を超えるペアを抽出\n",
    "    correlated_pairs = (\n",
    "        upper.stack()\n",
    "        .reset_index()\n",
    "        .rename(columns={\"level_0\": \"Column1\", \"level_1\": \"Column2\", 0: \"Correlation\"})\n",
    "    )\n",
    "    correlated_pairs = correlated_pairs[correlated_pairs[\"Correlation\"] >= threshold]\n",
    "\n",
    "    # 相関係数の高い順にソート\n",
    "    correlated_pairs = correlated_pairs.sort_values(by=\"Correlation\", ascending=False).reset_index(drop=True)\n",
    "\n",
    "    return correlated_pairs\n"
   ]
  },
  {
   "cell_type": "code",
   "execution_count": 7,
   "id": "2f86c3c1",
   "metadata": {},
   "outputs": [
    {
     "name": "stdout",
     "output_type": "stream",
     "text": [
      "  Column1 Column2  Correlation\n",
      "0       A       B          1.0\n",
      "1       A       C          1.0\n",
      "2       B       C          1.0\n"
     ]
    }
   ],
   "source": [
    "# サンプルデータ\n",
    "data = {\n",
    "    \"A\": [1, 2, 3, 4, 5],\n",
    "    \"B\": [2, 4, 6, 8, 10],\n",
    "    \"C\": [5, 4, 3, 2, 1],\n",
    "    \"D\": [1, 1, 1, 1, 1]\n",
    "}\n",
    "\n",
    "df = pd.DataFrame(data)\n",
    "\n",
    "# 関数呼び出し\n",
    "result = get_highly_correlated_pairs(df, threshold=0.95)\n",
    "print(result)\n",
    "\n"
   ]
  },
  {
   "cell_type": "code",
   "execution_count": null,
   "id": "0e77fae3",
   "metadata": {},
   "outputs": [],
   "source": []
  }
 ],
 "metadata": {
  "kernelspec": {
   "display_name": "venv312",
   "language": "python",
   "name": "python3"
  },
  "language_info": {
   "codemirror_mode": {
    "name": "ipython",
    "version": 3
   },
   "file_extension": ".py",
   "mimetype": "text/x-python",
   "name": "python",
   "nbconvert_exporter": "python",
   "pygments_lexer": "ipython3",
   "version": "3.12.2"
  }
 },
 "nbformat": 4,
 "nbformat_minor": 5
}
